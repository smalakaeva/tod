{
 "cells": [
  {
   "cell_type": "markdown",
   "metadata": {
    "id": "AiE7Cx7FC9JI"
   },
   "source": [
    "# Работа с Excel"
   ]
  },
  {
   "cell_type": "markdown",
   "metadata": {
    "id": "kzjTWMZYC9JL"
   },
   "source": [
    "Материалы:\n",
    "* Макрушин С.В. Лекция 7: Работа с Excel\n",
    "* https://docs.xlwings.org/en/stable/quickstart.html\n",
    "* https://nbviewer.jupyter.org/github/pybokeh/jupyter_notebooks/blob/master/xlwings/Excel_Formatting.ipynb#search_text\n"
   ]
  },
  {
   "cell_type": "markdown",
   "metadata": {
    "id": "yNRtcI6yC9JM"
   },
   "source": [
    "## Задачи для совместного разбора"
   ]
  },
  {
   "cell_type": "markdown",
   "metadata": {
    "id": "B1KGiErFC9JM"
   },
   "source": [
    "1. На листе \"Рецептура\" файла `себестоимостьА_в1.xlsx` для области \"Пшеничный хлеб\" рассчитать себестоимость всех видов продукции."
   ]
  },
  {
   "cell_type": "code",
   "execution_count": 3,
   "metadata": {
    "colab": {
     "base_uri": "https://localhost:8080/",
     "height": 363
    },
    "id": "a1TO8q1lol6S",
    "outputId": "8326654a-e036-469f-ba28-dc53b6d09512"
   },
   "outputs": [
    {
     "data": {
      "text/plain": [
       "[['№',\n",
       "  'Наименование продукции',\n",
       "  'Вес, кг.',\n",
       "  'Цена оптовая, руб.',\n",
       "  'Цена розничная, руб.',\n",
       "  'Физический расход ресурсов на единицу продукции',\n",
       "  None,\n",
       "  None,\n",
       "  None,\n",
       "  None,\n",
       "  None,\n",
       "  None,\n",
       "  None,\n",
       "  None,\n",
       "  None,\n",
       "  None,\n",
       "  None,\n",
       "  'Доля'],\n",
       " [None,\n",
       "  None,\n",
       "  None,\n",
       "  None,\n",
       "  None,\n",
       "  'Вода',\n",
       "  'Пшеничная мука',\n",
       "  'Дрожжи',\n",
       "  'Сахар',\n",
       "  'Соль',\n",
       "  'Куркума молотая',\n",
       "  'Топленное масло',\n",
       "  'Кунжутные семена',\n",
       "  'Масло оливковое',\n",
       "  None,\n",
       "  None,\n",
       "  None,\n",
       "  None],\n",
       " [None,\n",
       "  None,\n",
       "  None,\n",
       "  None,\n",
       "  None,\n",
       "  None,\n",
       "  None,\n",
       "  None,\n",
       "  None,\n",
       "  None,\n",
       "  None,\n",
       "  None,\n",
       "  None,\n",
       "  None,\n",
       "  None,\n",
       "  None,\n",
       "  None,\n",
       "  None],\n",
       " [1.0,\n",
       "  'Хлеб Венгерский',\n",
       "  0.4,\n",
       "  35.0,\n",
       "  50.0,\n",
       "  0.2,\n",
       "  0.4,\n",
       "  0.02,\n",
       "  0.02,\n",
       "  0.01,\n",
       "  0.005,\n",
       "  0.1,\n",
       "  None,\n",
       "  None,\n",
       "  None,\n",
       "  None,\n",
       "  None,\n",
       "  0.3],\n",
       " [2.0,\n",
       "  'Хлеб \"Барбари\"',\n",
       "  0.25,\n",
       "  28.0,\n",
       "  40.0,\n",
       "  0.07,\n",
       "  0.25,\n",
       "  0.01,\n",
       "  0.06,\n",
       "  0.015,\n",
       "  None,\n",
       "  0.06,\n",
       "  0.05,\n",
       "  None,\n",
       "  None,\n",
       "  None,\n",
       "  None,\n",
       "  0.2],\n",
       " [3.0,\n",
       "  'Багет парижский',\n",
       "  0.25,\n",
       "  35.0,\n",
       "  50.0,\n",
       "  0.12,\n",
       "  0.22,\n",
       "  0.005,\n",
       "  None,\n",
       "  0.009,\n",
       "  0.005,\n",
       "  None,\n",
       "  0.05,\n",
       "  0.03,\n",
       "  None,\n",
       "  None,\n",
       "  None,\n",
       "  0.3],\n",
       " [4.0,\n",
       "  'Чиабатта',\n",
       "  0.25,\n",
       "  35.0,\n",
       "  50.0,\n",
       "  0.12,\n",
       "  0.23,\n",
       "  0.01,\n",
       "  None,\n",
       "  0.015,\n",
       "  None,\n",
       "  None,\n",
       "  None,\n",
       "  0.05,\n",
       "  None,\n",
       "  None,\n",
       "  None,\n",
       "  0.2],\n",
       " [5.0,\n",
       "  None,\n",
       "  None,\n",
       "  None,\n",
       "  None,\n",
       "  None,\n",
       "  None,\n",
       "  None,\n",
       "  None,\n",
       "  None,\n",
       "  None,\n",
       "  None,\n",
       "  None,\n",
       "  None,\n",
       "  None,\n",
       "  None,\n",
       "  None,\n",
       "  None],\n",
       " [6.0,\n",
       "  None,\n",
       "  None,\n",
       "  None,\n",
       "  None,\n",
       "  None,\n",
       "  None,\n",
       "  None,\n",
       "  None,\n",
       "  None,\n",
       "  None,\n",
       "  None,\n",
       "  None,\n",
       "  None,\n",
       "  None,\n",
       "  None,\n",
       "  None,\n",
       "  None],\n",
       " [7.0,\n",
       "  None,\n",
       "  None,\n",
       "  None,\n",
       "  None,\n",
       "  None,\n",
       "  None,\n",
       "  None,\n",
       "  None,\n",
       "  None,\n",
       "  None,\n",
       "  None,\n",
       "  None,\n",
       "  None,\n",
       "  None,\n",
       "  None,\n",
       "  None,\n",
       "  None],\n",
       " ['Цена ресурсов, руб.',\n",
       "  None,\n",
       "  None,\n",
       "  None,\n",
       "  None,\n",
       "  7.0,\n",
       "  10.0,\n",
       "  184.0,\n",
       "  19.0,\n",
       "  7.0,\n",
       "  290.0,\n",
       "  105.0,\n",
       "  83.0,\n",
       "  260.0,\n",
       "  0.0,\n",
       "  0.0,\n",
       "  0.0,\n",
       "  None],\n",
       " ['Средний физический расход ресурсов',\n",
       "  None,\n",
       "  None,\n",
       "  None,\n",
       "  None,\n",
       "  0.134,\n",
       "  0.282,\n",
       "  0.0115,\n",
       "  0.018000000000000002,\n",
       "  0.011699999999999999,\n",
       "  0.003,\n",
       "  0.041999999999999996,\n",
       "  0.025,\n",
       "  0.019000000000000003,\n",
       "  0.0,\n",
       "  0.0,\n",
       "  0.0,\n",
       "  None],\n",
       " ['Размерность физических единиц',\n",
       "  None,\n",
       "  None,\n",
       "  None,\n",
       "  None,\n",
       "  'л',\n",
       "  'кг',\n",
       "  'кг',\n",
       "  'кг',\n",
       "  'кг',\n",
       "  'кг',\n",
       "  'кг',\n",
       "  'кг',\n",
       "  'л',\n",
       "  None,\n",
       "  None,\n",
       "  None,\n",
       "  None]]"
      ]
     },
     "execution_count": 3,
     "metadata": {},
     "output_type": "execute_result"
    }
   ],
   "source": [
    "n1 = xw.Book('себестоимостьА_в1.xlsx')\n",
    "sht1 = n1.sheets[\"Рецептура\"]\n",
    "recipe1 = sht1.range('рцп_пшеничный_хлеб').value\n",
    "recipe1 "
   ]
  },
  {
   "cell_type": "markdown",
   "metadata": {
    "id": "IgpHjZ4UC9JN"
   },
   "source": [
    "2. Результаты расчетов 1.1 сохранить в отдельном столбце области \"Пшеничный хлеб\""
   ]
  },
  {
   "cell_type": "code",
   "execution_count": 4,
   "metadata": {
    "colab": {
     "base_uri": "https://localhost:8080/",
     "height": 166
    },
    "id": "IduS-1Cts_tM",
    "outputId": "806fe378-8d3e-4315-fd6a-e7620afb0d06"
   },
   "outputs": [
    {
     "ename": "AttributeError",
     "evalue": "'list' object has no attribute 'to_excel'",
     "output_type": "error",
     "traceback": [
      "\u001b[1;31m---------------------------------------------------------------------------\u001b[0m",
      "\u001b[1;31mAttributeError\u001b[0m                            Traceback (most recent call last)",
      "\u001b[1;32m~\\AppData\\Local\\Temp/ipykernel_13428/2451499842.py\u001b[0m in \u001b[0;36m<module>\u001b[1;34m\u001b[0m\n\u001b[1;32m----> 1\u001b[1;33m \u001b[0mrecipe1\u001b[0m\u001b[1;33m.\u001b[0m\u001b[0mto_excel\u001b[0m\u001b[1;33m(\u001b[0m\u001b[1;34m'себестоимостьА_в1.xlsx'\u001b[0m\u001b[1;33m,\u001b[0m \u001b[0msheet_name\u001b[0m\u001b[1;33m=\u001b[0m\u001b[1;34m'Рецептура'\u001b[0m\u001b[1;33m)\u001b[0m\u001b[1;33m\u001b[0m\u001b[1;33m\u001b[0m\u001b[0m\n\u001b[0m",
      "\u001b[1;31mAttributeError\u001b[0m: 'list' object has no attribute 'to_excel'"
     ]
    }
   ],
   "source": [
    "recipe1.to_excel('себестоимостьА_в1.xlsx', sheet_name='Рецептура')"
   ]
  },
  {
   "cell_type": "markdown",
   "metadata": {
    "id": "PYZussTRC9JN"
   },
   "source": [
    "3. Приблизить форматирование столбца, добавленного в задаче 2 к оформлению всей области."
   ]
  },
  {
   "cell_type": "markdown",
   "metadata": {
    "id": "DG5Ve_5jC9JN"
   },
   "source": [
    "4. Выполнить 3 с помощью \"протягиваемых\" формул."
   ]
  },
  {
   "cell_type": "markdown",
   "metadata": {
    "id": "9DbK9HhYC9JO"
   },
   "source": [
    "## Лабораторная работа 7.1"
   ]
  },
  {
   "cell_type": "code",
   "execution_count": 2,
   "metadata": {
    "colab": {
     "base_uri": "https://localhost:8080/"
    },
    "id": "wFZs1OBIMV32",
    "outputId": "c264f8fc-2bd5-4c19-bb99-a7081729f4bf"
   },
   "outputs": [
    {
     "name": "stdout",
     "output_type": "stream",
     "text": [
      "Looking in indexes: https://pypi.org/simple, https://us-python.pkg.dev/colab-wheels/public/simple/\n",
      "Collecting xlsxwriter\n",
      "  Downloading XlsxWriter-3.0.8-py3-none-any.whl (152 kB)\n",
      "\u001b[2K     \u001b[90m━━━━━━━━━━━━━━━━━━━━━━━━━━━━━━━━━━━━━━━\u001b[0m \u001b[32m152.8/152.8 KB\u001b[0m \u001b[31m5.6 MB/s\u001b[0m eta \u001b[36m0:00:00\u001b[0m\n",
      "\u001b[?25hInstalling collected packages: xlsxwriter\n",
      "Successfully installed xlsxwriter-3.0.8\n",
      "Looking in indexes: https://pypi.org/simple, https://us-python.pkg.dev/colab-wheels/public/simple/\n",
      "Collecting xlwings\n",
      "  Downloading xlwings-0.30.1-cp39-cp39-manylinux_2_17_x86_64.manylinux2014_x86_64.whl (2.3 MB)\n",
      "\u001b[2K     \u001b[90m━━━━━━━━━━━━━━━━━━━━━━━━━━━━━━━━━━━━━━━━\u001b[0m \u001b[32m2.3/2.3 MB\u001b[0m \u001b[31m33.4 MB/s\u001b[0m eta \u001b[36m0:00:00\u001b[0m\n",
      "\u001b[?25hInstalling collected packages: xlwings\n",
      "Successfully installed xlwings-0.30.1\n"
     ]
    }
   ],
   "source": [
    "!pip install xlsxwriter\n",
    "!pip install xlwings"
   ]
  },
  {
   "cell_type": "code",
   "execution_count": 1,
   "metadata": {
    "id": "em9oAnplDo8t"
   },
   "outputs": [
    {
     "name": "stderr",
     "output_type": "stream",
     "text": [
      "Matplotlib is building the font cache; this may take a moment.\n"
     ]
    }
   ],
   "source": [
    "import pandas as pd\n",
    "import numpy as np\n",
    "import xlsxwriter\n",
    "import xlwings as xw"
   ]
  },
  {
   "cell_type": "markdown",
   "metadata": {
    "id": "m09tO1DyC9JO"
   },
   "source": [
    "1. Загрузите данные из файлов `reviews_sample.csv` (__ЛР2__) и `recipes_sample.csv` (__ЛР5__) в виде `pd.DataFrame`. Обратите внимание на корректное считывание столбца(ов) с индексами. Оставьте в таблице с рецептами следующие столбцы: `id`, `name`, `minutes`, `submitted`, `description`, `n_ingredients`"
   ]
  },
  {
   "cell_type": "code",
   "execution_count": 5,
   "metadata": {
    "colab": {
     "base_uri": "https://localhost:8080/",
     "height": 970
    },
    "id": "u6yJNq5aEg5E",
    "outputId": "6f6d2ddb-3f94-455b-d150-3c9e2635f29e"
   },
   "outputs": [
    {
     "name": "stdout",
     "output_type": "stream",
     "text": [
      "                                               name      id  minutes  \\\n",
      "0             george s at the cove  black bean soup   44123       90   \n",
      "1                healthy for them  yogurt popsicles   67664       10   \n",
      "2                      i can t believe it s spinach   38798       30   \n",
      "3                              italian  gut busters   35173       45   \n",
      "4          love is in the air  beef fondue   sauces   84797       25   \n",
      "...                                             ...     ...      ...   \n",
      "29995  zurie s holey rustic olive and cheddar bread  267661       80   \n",
      "29996          zwetschgenkuchen  bavarian plum cake  386977      240   \n",
      "29997   zwiebelkuchen   southwest german onion cake  103312       75   \n",
      "29998                                   zydeco soup  486161       60   \n",
      "29999        cookies by design   cookies on a stick  298512       29   \n",
      "\n",
      "       contributor_id   submitted  n_steps  \\\n",
      "0               35193  2002-10-25      NaN   \n",
      "1               91970  2003-07-26      NaN   \n",
      "2                1533  2002-08-29      NaN   \n",
      "3               22724  2002-07-27      NaN   \n",
      "4                4470  2004-02-23      4.0   \n",
      "...               ...         ...      ...   \n",
      "29995          200862  2007-11-25     16.0   \n",
      "29996          177443  2009-08-24      NaN   \n",
      "29997          161745  2004-11-03      NaN   \n",
      "29998          227978  2012-08-29      NaN   \n",
      "29999          506822  2008-04-15      9.0   \n",
      "\n",
      "                                             description  n_ingredients  \n",
      "0      an original recipe created by chef scott meska...           18.0  \n",
      "1      my children and their friends ask for my homem...            NaN  \n",
      "2                these were so go, it surprised even me.            8.0  \n",
      "3      my sister-in-law made these for us at a family...            NaN  \n",
      "4      i think a fondue is a very romantic casual din...            NaN  \n",
      "...                                                  ...            ...  \n",
      "29995  this is based on a french recipe but i changed...           10.0  \n",
      "29996  this is a traditional fresh plum cake, thought...           11.0  \n",
      "29997  this is a traditional late summer early fall s...            NaN  \n",
      "29998  this is a delicious soup that i originally fou...            NaN  \n",
      "29999  i've heard of the 'cookies by design' company,...           10.0  \n",
      "\n",
      "[30000 rows x 8 columns]\n"
     ]
    }
   ],
   "source": [
    "recipes=pd.read_csv('recipes_sample.csv')\n",
    "print(recipes)\n",
    "reviews=pd.read_csv('reviews_sample.csv')\n",
    "recipes=recipes.drop(['contributor_id','n_steps'],axis=1)"
   ]
  },
  {
   "cell_type": "markdown",
   "metadata": {
    "id": "mBkSfhY1C9JO"
   },
   "source": [
    "2. Случайным образом выберите 5% строк из каждой таблицы и сохраните две таблицы на разные листы в один файл `recipes.xlsx`. Дайте листам названия \"Рецепты\" и \"Отзывы\", соответствующие содержанию таблиц. "
   ]
  },
  {
   "cell_type": "code",
   "execution_count": 11,
   "metadata": {
    "id": "a81W_5AjDOCb"
   },
   "outputs": [],
   "source": [
    "recipes5=recipes.sample(frac=0.05)\n",
    "reviews5=reviews.sample(frac=0.05) #5% от таблицы\n",
    "\n",
    "writer = pd.ExcelWriter('recipes.xlsx', engine='xlsxwriter')\n",
    "\n",
    "reviews5.to_excel(writer, sheet_name='Рецепты')\n",
    "recipes5.to_excel(writer, sheet_name='Отзывы')\n",
    "writer.save()"
   ]
  },
  {
   "cell_type": "markdown",
   "metadata": {
    "id": "TW1mh2gDC9JP"
   },
   "source": [
    "3. Используя `xlwings`, добавьте на лист `Рецепты` столбец `seconds_assign`, показывающий время выполнения рецепта в секундах. Выполните задание при помощи присваивания массива значений диапазону ячеек."
   ]
  },
  {
   "cell_type": "code",
   "execution_count": 15,
   "metadata": {
    "colab": {
     "base_uri": "https://localhost:8080/",
     "height": 364
    },
    "id": "HWg8oi9ZNIyC",
    "outputId": "645148d7-d107-437c-c72b-e2be71019b0a"
   },
   "outputs": [],
   "source": [
    "seconds_assign = recipes['minutes']*60\n",
    "\n",
    "book = xw.Book('recipes.xlsx')\n",
    "sheet = book.sheets['Рецепты'] \n",
    "sheet.range('H1').value = seconds_assign"
   ]
  },
  {
   "cell_type": "markdown",
   "metadata": {
    "id": "oheR_ZMNC9JP"
   },
   "source": [
    "4. Используя `xlwings`, добавьте на лист `Рецепты` столбец `seconds_formula`, показывающий время выполнения рецепта в секундах. Выполните задание при помощи формул Excel."
   ]
  },
  {
   "cell_type": "code",
   "execution_count": 16,
   "metadata": {
    "colab": {
     "base_uri": "https://localhost:8080/",
     "height": 183
    },
    "id": "xRmuR6zbNJHy",
    "outputId": "dd5ea08a-bab6-40a1-e832-689f456320c3"
   },
   "outputs": [],
   "source": [
    "sheet.range('J1').value = 'seconds_formula'\n",
    "sheet.range('J2:J1501').formula = f'=(D2:D1501)*60'"
   ]
  },
  {
   "cell_type": "markdown",
   "metadata": {
    "id": "B7SSaZTBC9JP"
   },
   "source": [
    "5. Сделайте названия всех добавленных столбцов полужирными и выровняйте по центру ячейки."
   ]
  },
  {
   "cell_type": "code",
   "execution_count": 17,
   "metadata": {
    "colab": {
     "base_uri": "https://localhost:8080/",
     "height": 183
    },
    "id": "DmgnVdBZNJp5",
    "outputId": "5dc3f074-995a-476d-f3a3-e269b8c5bd0a"
   },
   "outputs": [],
   "source": [
    "sheet.range(f'$A1:$J1').api.HorizontalAlignment = -4108\n",
    "sheet.range(f'$A1:$J1').api.Font.Bold = True"
   ]
  },
  {
   "cell_type": "markdown",
   "metadata": {
    "id": "L5cNjb5OC9JQ"
   },
   "source": [
    "6. Раскрасьте ячейки столбца `minutes` в соответствии со следующим правилом: если рецепт выполняется быстрее 5 минут, то цвет - зеленый; от 5 до 10 минут - жёлтый; и больше 10 - красный."
   ]
  },
  {
   "cell_type": "code",
   "execution_count": 18,
   "metadata": {
    "colab": {
     "base_uri": "https://localhost:8080/",
     "height": 235
    },
    "id": "4crVWOmoNKFP",
    "outputId": "f6f82950-4257-4154-d1da-b74fd1137534"
   },
   "outputs": [],
   "source": [
    "for i in sheet.range('D2:D1501'):\n",
    "    if i.value < 5:\n",
    "        i.color = (0,255,0)\n",
    "    elif i.value>10:\n",
    "        i.color=(255,0,0)\n",
    "    else:\n",
    "        i.color=(255,255,0)"
   ]
  },
  {
   "cell_type": "markdown",
   "metadata": {
    "id": "Xesj3NXcC9JQ"
   },
   "source": [
    "7. Добавьте на лист `Рецепты`  столбец `n_reviews`, содержащий кол-во отзывов для этого рецепта. Выполните задание при помощи формул Excel."
   ]
  },
  {
   "cell_type": "code",
   "execution_count": null,
   "metadata": {
    "colab": {
     "base_uri": "https://localhost:8080/",
     "height": 183
    },
    "id": "VDYNbmE0NK3t",
    "outputId": "f07694e8-230d-403e-b4d5-4469640c075d"
   },
   "outputs": [],
   "source": [
    "n_reviews=pd.DataFrame([f'=COUNTIFS(Отзывы!C:C;Рецепты!A{x+2})' for x in range(1500)],columns=['n_reviews'])\n",
    "book.sheets['Рецепты'].range('I1:I1501').options(index=False).value=n_reviews"
   ]
  },
  {
   "cell_type": "markdown",
   "metadata": {
    "id": "Wu-NNYTrC9JQ"
   },
   "source": [
    "## Лабораторная работа 7.2"
   ]
  },
  {
   "cell_type": "markdown",
   "metadata": {
    "id": "jvZcwyZGC9JQ"
   },
   "source": [
    "8. Напишите функцию `validate()`, которая проверяет соответствие всех строк из листа `Отзывы` следующим правилам:\n",
    "    * Рейтинг - это число от 0 до 5 включительно\n",
    "    * Соответствующий рецепт имеется на листе `Рецепты`\n",
    "    \n",
    "В случае несоответствия этим правилам, выделите строку красным цветом"
   ]
  },
  {
   "cell_type": "markdown",
   "metadata": {
    "id": "pWRIS9gdC9JR"
   },
   "source": [
    "9. В файле `recipes_model.csv` находится модель данных предметной области \"рецепты\". При помощи пакета `csv` считайте эти данные. При помощи пакета `xlwings` запишите данные на лист `Модель` книги `recipes_model.xlsx`, начиная с ячейки `A2`, не используя циклы. Сделайте скриншот текущего состояния листа и прикрепите в ячейку ноутбука. "
   ]
  },
  {
   "cell_type": "markdown",
   "metadata": {
    "id": "qxLu6o_uC9JR"
   },
   "source": [
    "10. При помощи пакета `xlwings` добавьте в столбец J формулу для описания столбца на языке SQL. Формула должна реализовывать следующую логику:\n",
    "\n",
    "    1\\. в начале строки идут значения из столбцов В и C (значение столбца С приведено к верхнему регистру), разделенные пробелом\n",
    "    \n",
    "    2\\. далее идут слова на основе столбца \"Ключ\"\n",
    "        2.1 если в столбце \"Ключ\" указано значение \"PK\", то дальше через пробел идет ключевое слово \"PRIMARY KEY\"\n",
    "        2.2 если в столбце \"Ключ\" указано значение \"FK\", то дальше через пробел идет ключевое слово \"REFERENCES\", затем значения столбцов H и I в формате \"название_таблицы(название_столбца)\"\n",
    "        \n",
    "    3\\. если в столбце \"Обязательно к заполнению\" указано значение \"Y\" и в столбце \"Ключ\" указано не \"PK\", то дальше через пробел идет ключевое слово \"NOT NULL\".\n",
    "\n",
    "Заполните этой формулой необходимое количество строк, используя \"протягивание\". Количество строк для протягивания определите на основе данных.\n",
    "\n",
    "Сделайте скриншот текущего состояния листа и прикрепите в ячейку ноутбука."
   ]
  },
  {
   "cell_type": "markdown",
   "metadata": {
    "id": "KuLHSu9GC9JS"
   },
   "source": [
    "11. При помощи пакета `xlwings` измените стилизацию листа `Модель`.\n",
    "* для заголовков добавьте заливку цвета `00ccff`\n",
    "* примените автоподбор ширины столбца;\n",
    "* сделайте шрифт заголовков полужирным;\n",
    "* добавьте таблице автофильтр.\n",
    "\n",
    "Сделайте скриншот текущего состояния листа и прикрепите в ячейку ноутбука."
   ]
  },
  {
   "cell_type": "markdown",
   "metadata": {
    "id": "Gl0rslbzC9JS"
   },
   "source": [
    "12. Посчитайте количество атрибутов для каждой из сущностей. Создайте лист `Статистика` и запишите в него результат группировки, начиная с ячейки \"А1\". Визуализируйте полученный результат при помощи столбчатой диаграммы. Сохраните полученную визуализацию на лист `Статистика`, начиная с ячейки \"E2\".  Сделайте скриншот листа `Статистика` и прикрепите в ячейку ноутбука.\n",
    "\n",
    "* Вы можете воспользоваться методами для визуализации, которые поставляются вместе с объектами `pandas` (см. https://pandas.pydata.org/docs/reference/api/pandas.DataFrame.plot) "
   ]
  }
 ],
 "metadata": {
  "colab": {
   "provenance": []
  },
  "kernelspec": {
   "display_name": "Python 3 (ipykernel)",
   "language": "python",
   "name": "python3"
  },
  "language_info": {
   "codemirror_mode": {
    "name": "ipython",
    "version": 3
   },
   "file_extension": ".py",
   "mimetype": "text/x-python",
   "name": "python",
   "nbconvert_exporter": "python",
   "pygments_lexer": "ipython3",
   "version": "3.9.12"
  }
 },
 "nbformat": 4,
 "nbformat_minor": 1
}
