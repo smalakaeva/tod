{
  "cells": [
    {
      "cell_type": "markdown",
      "metadata": {
        "id": "RHJ4JFlvP6fV"
      },
      "source": [
        "## Оптимизация выполнения кода, векторизация, Numba"
      ]
    },
    {
      "cell_type": "markdown",
      "metadata": {
        "id": "cu6xzHnwP6fX"
      },
      "source": [
        "Материалы:\n",
        "* Макрушин С.В. Лекция 3: Оптимизация выполнения кода, векторизация, Numba\n",
        "* IPython Cookbook, Second Edition (2018), глава 4\n",
        "* https://numba.pydata.org/numba-doc/latest/user/5minguide.html"
      ]
    },
    {
      "cell_type": "markdown",
      "metadata": {
        "id": "PmmpTSngP6fZ"
      },
      "source": [
        "## Задачи для совместного разбора"
      ]
    },
    {
      "cell_type": "markdown",
      "metadata": {
        "id": "uTl_RDuKP6fa"
      },
      "source": [
        "1. Сгенерируйте массив `A` из `N=1млн` случайных целых чисел на отрезке от 0 до 1000. Пусть `B[i] = A[i] + 100`. Посчитайте среднее значение массива `B`."
      ]
    },
    {
      "cell_type": "code",
      "execution_count": null,
      "metadata": {
        "colab": {
          "base_uri": "https://localhost:8080/"
        },
        "id": "gqK71JovP6fa",
        "outputId": "4d04b27e-a91b-4090-d206-4e01993ae8d1"
      },
      "outputs": [
        {
          "output_type": "stream",
          "name": "stdout",
          "text": [
            "599.943039\n"
          ]
        }
      ],
      "source": [
        "import random\n",
        "\n",
        "N = 1000000\n",
        "A = [random.randint(0, 1000) for i in range(N)]\n",
        "B = [a + 100 for a in A]\n",
        "\n",
        "mean_B = sum(B) / N\n",
        "print(mean_B)"
      ]
    },
    {
      "cell_type": "markdown",
      "metadata": {
        "id": "itUlI_KjP6fb"
      },
      "source": [
        "2. Создайте таблицу 2млн строк и с 4 столбцами, заполненными случайными числами. Добавьте столбец `key`, которые содержит элементы из множества английских букв. Выберите из таблицы подмножество строк, для которых в столбце `key` указаны первые 5 английских букв."
      ]
    },
    {
      "cell_type": "code",
      "source": [
        "import random\n",
        "import string\n",
        "import pandas as pd\n",
        "\n",
        "N = 2000000\n",
        "data = {'col1': [random.randint(0, 1000) for i in range(N)],\n",
        "        'col2': [random.randint(0, 1000) for i in range(N)],\n",
        "        'col3': [random.randint(0, 1000) for i in range(N)],\n",
        "        'col4': [random.randint(0, 1000) for i in range(N)]}\n",
        "\n",
        "df = pd.DataFrame(data)\n",
        "def random_string(leng):\n",
        "    return ''.join(random.choice(string.ascii_lowercase))  #множество английских букв\n",
        "\n",
        "df['key'] = [random_string(5) for i in range(N)]\n",
        "\n",
        "alf_5 = df[df['key'].str.match('[a-e]{5}')]\n",
        "print(df)\n",
        "print(alf_5)"
      ],
      "metadata": {
        "colab": {
          "base_uri": "https://localhost:8080/"
        },
        "id": "KRF1PqctQxkK",
        "outputId": "78f21971-b67a-474f-cec3-9f8091dfce13"
      },
      "execution_count": null,
      "outputs": [
        {
          "output_type": "stream",
          "name": "stdout",
          "text": [
            "         col1  col2  col3  col4 key\n",
            "0         167   659   822   414   m\n",
            "1         313   100   469   498   x\n",
            "2         707   592   733   226   c\n",
            "3         878   132   832   694   c\n",
            "4         299   569   521   394   e\n",
            "...       ...   ...   ...   ...  ..\n",
            "1999995   915   911   258   509   t\n",
            "1999996   431   598   792   444   f\n",
            "1999997    94   425   562   447   g\n",
            "1999998   513    80   561   706   t\n",
            "1999999     6   658    11   173   m\n",
            "\n",
            "[2000000 rows x 5 columns]\n",
            "Empty DataFrame\n",
            "Columns: [col1, col2, col3, col4, key]\n",
            "Index: []\n"
          ]
        }
      ]
    },
    {
      "cell_type": "markdown",
      "metadata": {
        "id": "ztMdFnJ4P6fb"
      },
      "source": [
        "## Лабораторная работа 3"
      ]
    },
    {
      "cell_type": "code",
      "execution_count": null,
      "metadata": {
        "colab": {
          "base_uri": "https://localhost:8080/"
        },
        "id": "iCTP8k0gP6fc",
        "outputId": "091c303b-1854-4112-deb7-f15c5a8a2b12"
      },
      "outputs": [
        {
          "output_type": "stream",
          "name": "stdout",
          "text": [
            "Looking in indexes: https://pypi.org/simple, https://us-python.pkg.dev/colab-wheels/public/simple/\n",
            "Collecting line_profiler\n",
            "  Downloading line_profiler-4.0.3-cp39-cp39-manylinux_2_17_x86_64.manylinux2014_x86_64.whl (662 kB)\n",
            "\u001b[2K     \u001b[90m━━━━━━━━━━━━━━━━━━━━━━━━━━━━━━━━━━━━━━\u001b[0m \u001b[32m662.2/662.2 kB\u001b[0m \u001b[31m12.6 MB/s\u001b[0m eta \u001b[36m0:00:00\u001b[0m\n",
            "\u001b[?25hInstalling collected packages: line_profiler\n",
            "Successfully installed line_profiler-4.0.3\n"
          ]
        }
      ],
      "source": [
        "!pip install line_profiler"
      ]
    },
    {
      "cell_type": "markdown",
      "metadata": {
        "id": "SYRy9NRFP6fc"
      },
      "source": [
        "1. В файлах `recipes_sample.csv` и `reviews_sample.csv` (__ЛР 2__) находится информация об рецептах блюд и отзывах на эти рецепты соответственно. Загрузите данные из файлов в виде `pd.DataFrame` с названиями `recipes` и `reviews`. Обратите внимание на корректное считывание столбца(ов) с индексами. Приведите столбцы к нужным типам.\n",
        "\n",
        "Реализуйте несколько вариантов функции подсчета среднего значения столбца `rating` из таблицы `reviews` для отзывов, оставленных в 2010 году.\n",
        "\n",
        "A. С использованием метода `DataFrame.iterrows` исходной таблицы;\n",
        "\n",
        "Б. С использованием метода `DataFrame.iterrows` таблицы, в которой сохранены только отзывы за 2010 год;\n",
        "\n",
        "В. С использованием метода `Series.mean`.\n",
        "\n",
        "Проверьте, что результаты работы всех написанных функций корректны и совпадают. Измерьте выполнения всех написанных функций.\n"
      ]
    },
    {
      "cell_type": "code",
      "execution_count": null,
      "metadata": {
        "id": "96SmJBVvPipT",
        "outputId": "94e94662-2bed-4efb-9f37-9a8a457d2ea4"
      },
      "outputs": [
        {
          "data": {
            "text/html": [
              "<div>\n",
              "<style scoped>\n",
              "    .dataframe tbody tr th:only-of-type {\n",
              "        vertical-align: middle;\n",
              "    }\n",
              "\n",
              "    .dataframe tbody tr th {\n",
              "        vertical-align: top;\n",
              "    }\n",
              "\n",
              "    .dataframe thead th {\n",
              "        text-align: right;\n",
              "    }\n",
              "</style>\n",
              "<table border=\"1\" class=\"dataframe\">\n",
              "  <thead>\n",
              "    <tr style=\"text-align: right;\">\n",
              "      <th></th>\n",
              "      <th>Unnamed: 0</th>\n",
              "      <th>user_id</th>\n",
              "      <th>recipe_id</th>\n",
              "      <th>date</th>\n",
              "      <th>rating</th>\n",
              "      <th>review</th>\n",
              "    </tr>\n",
              "  </thead>\n",
              "  <tbody>\n",
              "    <tr>\n",
              "      <th>0</th>\n",
              "      <td>370476</td>\n",
              "      <td>21752</td>\n",
              "      <td>57993</td>\n",
              "      <td>2003-05-01</td>\n",
              "      <td>5</td>\n",
              "      <td>Last week whole sides of frozen salmon fillet ...</td>\n",
              "    </tr>\n",
              "    <tr>\n",
              "      <th>1</th>\n",
              "      <td>624300</td>\n",
              "      <td>431813</td>\n",
              "      <td>142201</td>\n",
              "      <td>2007-09-16</td>\n",
              "      <td>5</td>\n",
              "      <td>So simple and so tasty!  I used a yellow capsi...</td>\n",
              "    </tr>\n",
              "    <tr>\n",
              "      <th>2</th>\n",
              "      <td>187037</td>\n",
              "      <td>400708</td>\n",
              "      <td>252013</td>\n",
              "      <td>2008-01-10</td>\n",
              "      <td>4</td>\n",
              "      <td>Very nice breakfast HH, easy to make and yummy...</td>\n",
              "    </tr>\n",
              "    <tr>\n",
              "      <th>3</th>\n",
              "      <td>706134</td>\n",
              "      <td>2001852463</td>\n",
              "      <td>404716</td>\n",
              "      <td>2017-12-11</td>\n",
              "      <td>5</td>\n",
              "      <td>These are a favorite for the holidays and so e...</td>\n",
              "    </tr>\n",
              "    <tr>\n",
              "      <th>4</th>\n",
              "      <td>312179</td>\n",
              "      <td>95810</td>\n",
              "      <td>129396</td>\n",
              "      <td>2008-03-14</td>\n",
              "      <td>5</td>\n",
              "      <td>Excellent soup!  The tomato flavor is just gre...</td>\n",
              "    </tr>\n",
              "    <tr>\n",
              "      <th>...</th>\n",
              "      <td>...</td>\n",
              "      <td>...</td>\n",
              "      <td>...</td>\n",
              "      <td>...</td>\n",
              "      <td>...</td>\n",
              "      <td>...</td>\n",
              "    </tr>\n",
              "    <tr>\n",
              "      <th>126691</th>\n",
              "      <td>1013457</td>\n",
              "      <td>1270706</td>\n",
              "      <td>335534</td>\n",
              "      <td>2009-05-17</td>\n",
              "      <td>4</td>\n",
              "      <td>This recipe was great! I made it last night. I...</td>\n",
              "    </tr>\n",
              "    <tr>\n",
              "      <th>126692</th>\n",
              "      <td>158736</td>\n",
              "      <td>2282344</td>\n",
              "      <td>8701</td>\n",
              "      <td>2012-06-03</td>\n",
              "      <td>0</td>\n",
              "      <td>This recipe is outstanding. I followed the rec...</td>\n",
              "    </tr>\n",
              "    <tr>\n",
              "      <th>126693</th>\n",
              "      <td>1059834</td>\n",
              "      <td>689540</td>\n",
              "      <td>222001</td>\n",
              "      <td>2008-04-08</td>\n",
              "      <td>5</td>\n",
              "      <td>Well, we were not a crowd but it was a fabulou...</td>\n",
              "    </tr>\n",
              "    <tr>\n",
              "      <th>126694</th>\n",
              "      <td>453285</td>\n",
              "      <td>2000242659</td>\n",
              "      <td>354979</td>\n",
              "      <td>2015-06-02</td>\n",
              "      <td>5</td>\n",
              "      <td>I have been a steak eater and dedicated BBQ gr...</td>\n",
              "    </tr>\n",
              "    <tr>\n",
              "      <th>126695</th>\n",
              "      <td>691207</td>\n",
              "      <td>463435</td>\n",
              "      <td>415599</td>\n",
              "      <td>2010-09-30</td>\n",
              "      <td>5</td>\n",
              "      <td>Wonderful and simple to prepare seasoning blen...</td>\n",
              "    </tr>\n",
              "  </tbody>\n",
              "</table>\n",
              "<p>126696 rows × 6 columns</p>\n",
              "</div>"
            ],
            "text/plain": [
              "        Unnamed: 0     user_id  recipe_id       date  rating  \\\n",
              "0           370476       21752      57993 2003-05-01       5   \n",
              "1           624300      431813     142201 2007-09-16       5   \n",
              "2           187037      400708     252013 2008-01-10       4   \n",
              "3           706134  2001852463     404716 2017-12-11       5   \n",
              "4           312179       95810     129396 2008-03-14       5   \n",
              "...            ...         ...        ...        ...     ...   \n",
              "126691     1013457     1270706     335534 2009-05-17       4   \n",
              "126692      158736     2282344       8701 2012-06-03       0   \n",
              "126693     1059834      689540     222001 2008-04-08       5   \n",
              "126694      453285  2000242659     354979 2015-06-02       5   \n",
              "126695      691207      463435     415599 2010-09-30       5   \n",
              "\n",
              "                                                   review  \n",
              "0       Last week whole sides of frozen salmon fillet ...  \n",
              "1       So simple and so tasty!  I used a yellow capsi...  \n",
              "2       Very nice breakfast HH, easy to make and yummy...  \n",
              "3       These are a favorite for the holidays and so e...  \n",
              "4       Excellent soup!  The tomato flavor is just gre...  \n",
              "...                                                   ...  \n",
              "126691  This recipe was great! I made it last night. I...  \n",
              "126692  This recipe is outstanding. I followed the rec...  \n",
              "126693  Well, we were not a crowd but it was a fabulou...  \n",
              "126694  I have been a steak eater and dedicated BBQ gr...  \n",
              "126695  Wonderful and simple to prepare seasoning blen...  \n",
              "\n",
              "[126696 rows x 6 columns]"
            ]
          },
          "execution_count": 198,
          "metadata": {},
          "output_type": "execute_result"
        }
      ],
      "source": [
        "recipes = pd.read_csv(\"recipes_sample.csv\")\n",
        "reviews = pd.read_csv('reviews_sample.csv')\n",
        "recipes['submitted'] = recipes['submitted'].astype(\"datetime64[ns]\")\n",
        "reviews['date'] = reviews['date'].astype(\"datetime64[ns]\")\n",
        "reviews"
      ]
    },
    {
      "cell_type": "code",
      "execution_count": null,
      "metadata": {
        "id": "0G-eaKfoPipT"
      },
      "outputs": [],
      "source": [
        "def A(df):\n",
        "    total_rating = 0\n",
        "    num_reviews = 0\n",
        "    for index, row in df.iterrows():\n",
        "        if row['date'].year == 2010:\n",
        "            total_rating += row['rating']\n",
        "            num_reviews += 1\n",
        "    mean_rating = total_rating / num_reviews\n",
        "    return mean_rating"
      ]
    },
    {
      "cell_type": "code",
      "execution_count": null,
      "metadata": {
        "id": "mg61dK8rPipU",
        "outputId": "8a1bd072-7dc2-4459-d4da-c597606dfae4"
      },
      "outputs": [
        {
          "name": "stdout",
          "output_type": "stream",
          "text": [
            "CPU times: total: 8.94 s\n",
            "Wall time: 8.94 s\n"
          ]
        },
        {
          "data": {
            "text/plain": [
              "4.4544402182900615"
            ]
          },
          "execution_count": 231,
          "metadata": {},
          "output_type": "execute_result"
        }
      ],
      "source": [
        "%%time\n",
        "A(reviews)"
      ]
    },
    {
      "cell_type": "code",
      "execution_count": null,
      "metadata": {
        "id": "9RDhISCtPipU"
      },
      "outputs": [],
      "source": [
        "def B(df):\n",
        "    reviews_2010 = df[reviews['date'].dt.year == 2010]\n",
        "    total_rating = 0\n",
        "    num_reviews = 0\n",
        "    for index, row in reviews_2010.iterrows():\n",
        "        total_rating += row['rating']\n",
        "        num_reviews += 1\n",
        "    mean_rating = total_rating / num_reviews\n",
        "    return mean_rating"
      ]
    },
    {
      "cell_type": "code",
      "execution_count": null,
      "metadata": {
        "id": "BG9ET6YpPipV",
        "outputId": "f3fb22f4-60de-4564-daf4-a3eaab28ec82"
      },
      "outputs": [
        {
          "name": "stdout",
          "output_type": "stream",
          "text": [
            "CPU times: total: 812 ms\n",
            "Wall time: 816 ms\n"
          ]
        },
        {
          "data": {
            "text/plain": [
              "4.4544402182900615"
            ]
          },
          "execution_count": 244,
          "metadata": {},
          "output_type": "execute_result"
        }
      ],
      "source": [
        "%%time\n",
        "B(reviews)"
      ]
    },
    {
      "cell_type": "code",
      "execution_count": null,
      "metadata": {
        "id": "eHwAAVhdPipV"
      },
      "outputs": [],
      "source": [
        "def C(df):\n",
        "    reviews_2010 = df[reviews['date'].dt.year == 2010]\n",
        "    mean_rating = reviews_2010['rating'].mean()\n",
        "    return mean_rating"
      ]
    },
    {
      "cell_type": "code",
      "execution_count": null,
      "metadata": {
        "id": "q193nTviPipV",
        "outputId": "90b70a01-7af7-43e3-9406-afb7abbb5ebc"
      },
      "outputs": [
        {
          "name": "stdout",
          "output_type": "stream",
          "text": [
            "CPU times: total: 15.6 ms\n",
            "Wall time: 18.8 ms\n"
          ]
        },
        {
          "data": {
            "text/plain": [
              "4.4544402182900615"
            ]
          },
          "execution_count": 247,
          "metadata": {},
          "output_type": "execute_result"
        }
      ],
      "source": [
        "%%time\n",
        "C(reviews)"
      ]
    },
    {
      "cell_type": "markdown",
      "metadata": {
        "id": "MVD3RBjWP6fd"
      },
      "source": [
        "2. Какая из созданных функций выполняется медленнее? Что наиболее сильно влияет на скорость выполнения? Для ответа использовать профайлер `line_profiler`. Сохраните результаты работы профайлера в отдельную текстовую ячейку и прокомментируйте результаты его работы.\n",
        "\n",
        "(*). Сможете ли вы ускорить работу функции 1Б, отказавшись от использования метода `iterrows`, но не используя метод `mean`?"
      ]
    },
    {
      "cell_type": "code",
      "source": [
        "!pip install line_profiler\n",
        "%load_ext line_profiler\n",
        "from line_profiler import LineProfiler"
      ],
      "metadata": {
        "colab": {
          "base_uri": "https://localhost:8080/"
        },
        "id": "_kXucZSvQ51Y",
        "outputId": "74c1eada-8277-4fba-b236-b5587160c4ce"
      },
      "execution_count": 1,
      "outputs": [
        {
          "output_type": "stream",
          "name": "stdout",
          "text": [
            "Looking in indexes: https://pypi.org/simple, https://us-python.pkg.dev/colab-wheels/public/simple/\n",
            "Collecting line_profiler\n",
            "  Downloading line_profiler-4.0.3-cp310-cp310-manylinux_2_17_x86_64.manylinux2014_x86_64.whl (661 kB)\n",
            "\u001b[2K     \u001b[90m━━━━━━━━━━━━━━━━━━━━━━━━━━━━━━━━━━━━━━━\u001b[0m \u001b[32m661.9/661.9 kB\u001b[0m \u001b[31m9.3 MB/s\u001b[0m eta \u001b[36m0:00:00\u001b[0m\n",
            "\u001b[?25hInstalling collected packages: line_profiler\n",
            "Successfully installed line_profiler-4.0.3\n"
          ]
        }
      ]
    },
    {
      "cell_type": "code",
      "execution_count": null,
      "metadata": {
        "id": "eYyDLU1yPipW"
      },
      "outputs": [],
      "source": [
        "%lprun -f A A(reviews) "
      ]
    },
    {
      "cell_type": "markdown",
      "metadata": {
        "id": "Wn8--PybPipX"
      },
      "source": [
        "Timer unit: 1e-07 s\n",
        "\n",
        "Total time: 32.766 s\n",
        "File: C:\\Users\\eliza\\AppData\\Local\\Temp\\ipykernel_25536\\1115547370.py\n",
        "Function: A at line 1\n",
        "\n",
        "Line #      Hits         Time  Per Hit   % Time  Line Contents\n",
        "==============================================================\n",
        "     1                                           def A(df):\n",
        "     2         1         15.0     15.0      0.0      total_rating = 0\n",
        "     3         1          8.0      8.0      0.0      num_reviews = 0\n",
        "     4    126696  274783792.0   2168.8     83.9      for index, row in df.iterrows():\n",
        "     5    114602   48350371.0    421.9     14.8          if row['date'].year == 2010:\n",
        "     6     12094    4411054.0    364.7      1.3              total_rating += row['rating']\n",
        "     7     12094     114909.0      9.5      0.0              num_reviews += 1\n",
        "     8         1         17.0     17.0      0.0      mean_rating = total_rating / num_reviews\n",
        "     9         1          7.0      7.0      0.0      return mean_rating"
      ]
    },
    {
      "cell_type": "code",
      "execution_count": null,
      "metadata": {
        "id": "UP7oNC4iPipY"
      },
      "outputs": [],
      "source": [
        "%lprun -f В В(reviews)"
      ]
    },
    {
      "cell_type": "markdown",
      "metadata": {
        "id": "Ats2xEzWPipY"
      },
      "source": [
        "Timer unit: 1e-07 s\n",
        "\n",
        "Total time: 0.0214808 s\n",
        "File: C:\\Users\\eliza\\AppData\\Local\\Temp\\ipykernel_25536\\193603030.py\n",
        "Function: C at line 1\n",
        "\n",
        "Line #      Hits         Time  Per Hit   % Time  Line Contents\n",
        "==============================================================\n",
        "     1                                           def C(df):\n",
        "     2         1     208034.0 208034.0     96.8      reviews_2010 = df[reviews['date'].dt.year == 2010]\n",
        "     3         1       6767.0   6767.0      3.2      mean_rating = reviews_2010['rating'].mean()\n",
        "     4         1          7.0      7.0      0.0      return mean_rating"
      ]
    },
    {
      "cell_type": "code",
      "execution_count": null,
      "metadata": {
        "id": "ktbPzDFrPipZ"
      },
      "outputs": [],
      "source": [
        "def B1(df):\n",
        "    df=df[df['date'].dt.year==2010]\n",
        "    return df['rating'].sum()/df.shape[0]"
      ]
    },
    {
      "cell_type": "code",
      "execution_count": null,
      "metadata": {
        "id": "mU-jb3jDPipa",
        "outputId": "e7f30215-27e6-46fd-fc54-a882a9716faf"
      },
      "outputs": [
        {
          "name": "stdout",
          "output_type": "stream",
          "text": [
            "CPU times: total: 15.6 ms\n",
            "Wall time: 19.1 ms\n"
          ]
        },
        {
          "data": {
            "text/plain": [
              "4.4544402182900615"
            ]
          },
          "execution_count": 255,
          "metadata": {},
          "output_type": "execute_result"
        }
      ],
      "source": [
        "%%time\n",
        "B1(reviews)"
      ]
    },
    {
      "cell_type": "code",
      "source": [],
      "metadata": {
        "id": "I0QbxBgVRbRT"
      },
      "execution_count": null,
      "outputs": []
    },
    {
      "cell_type": "markdown",
      "metadata": {
        "id": "8M2DMaNTP6fd"
      },
      "source": [
        "3. Вам предлагается воспользоваться функцией, которая собирает статистику о том, сколько отзывов содержат то или иное слово. Измерьте время выполнения этой функции. Сможете ли вы найти узкие места в коде, используя профайлер? Выпишите (словами), что в имеющемся коде реализовано неоптимально. Оптимизируйте функцию и добейтесь значительного (как минимум, на один порядок) прироста в скорости выполнения."
      ]
    },
    {
      "cell_type": "code",
      "source": [],
      "metadata": {
        "id": "Ql3UxkPFRIQT"
      },
      "execution_count": null,
      "outputs": []
    },
    {
      "cell_type": "code",
      "source": [
        "import pandas as pd\n",
        "recipes  = pd.read_csv('recipes_sample.csv')\n",
        "review  = pd.read_csv('reviews_sample.csv')\n",
        "review.rename(columns = {'Unnamed: 0' : 'kjbsv'})"
      ],
      "metadata": {
        "colab": {
          "base_uri": "https://localhost:8080/",
          "height": 423
        },
        "id": "zmkLw-Tfd-kh",
        "outputId": "8b7d6b61-126f-42f7-8066-dc8b92ea1847"
      },
      "execution_count": null,
      "outputs": [
        {
          "output_type": "execute_result",
          "data": {
            "text/plain": [
              "          kjbsv     user_id  recipe_id        date  rating  \\\n",
              "0        370476       21752      57993  2003-05-01       5   \n",
              "1        624300      431813     142201  2007-09-16       5   \n",
              "2        187037      400708     252013  2008-01-10       4   \n",
              "3        706134  2001852463     404716  2017-12-11       5   \n",
              "4        312179       95810     129396  2008-03-14       5   \n",
              "...         ...         ...        ...         ...     ...   \n",
              "126691  1013457     1270706     335534  2009-05-17       4   \n",
              "126692   158736     2282344       8701  2012-06-03       0   \n",
              "126693  1059834      689540     222001  2008-04-08       5   \n",
              "126694   453285  2000242659     354979  2015-06-02       5   \n",
              "126695   691207      463435     415599  2010-09-30       5   \n",
              "\n",
              "                                                   review  \n",
              "0       Last week whole sides of frozen salmon fillet ...  \n",
              "1       So simple and so tasty!  I used a yellow capsi...  \n",
              "2       Very nice breakfast HH, easy to make and yummy...  \n",
              "3       These are a favorite for the holidays and so e...  \n",
              "4       Excellent soup!  The tomato flavor is just gre...  \n",
              "...                                                   ...  \n",
              "126691  This recipe was great! I made it last night. I...  \n",
              "126692  This recipe is outstanding. I followed the rec...  \n",
              "126693  Well, we were not a crowd but it was a fabulou...  \n",
              "126694  I have been a steak eater and dedicated BBQ gr...  \n",
              "126695  Wonderful and simple to prepare seasoning blen...  \n",
              "\n",
              "[126696 rows x 6 columns]"
            ],
            "text/html": [
              "\n",
              "  <div id=\"df-57aee1e5-46c6-4401-9261-0958458c581f\">\n",
              "    <div class=\"colab-df-container\">\n",
              "      <div>\n",
              "<style scoped>\n",
              "    .dataframe tbody tr th:only-of-type {\n",
              "        vertical-align: middle;\n",
              "    }\n",
              "\n",
              "    .dataframe tbody tr th {\n",
              "        vertical-align: top;\n",
              "    }\n",
              "\n",
              "    .dataframe thead th {\n",
              "        text-align: right;\n",
              "    }\n",
              "</style>\n",
              "<table border=\"1\" class=\"dataframe\">\n",
              "  <thead>\n",
              "    <tr style=\"text-align: right;\">\n",
              "      <th></th>\n",
              "      <th>kjbsv</th>\n",
              "      <th>user_id</th>\n",
              "      <th>recipe_id</th>\n",
              "      <th>date</th>\n",
              "      <th>rating</th>\n",
              "      <th>review</th>\n",
              "    </tr>\n",
              "  </thead>\n",
              "  <tbody>\n",
              "    <tr>\n",
              "      <th>0</th>\n",
              "      <td>370476</td>\n",
              "      <td>21752</td>\n",
              "      <td>57993</td>\n",
              "      <td>2003-05-01</td>\n",
              "      <td>5</td>\n",
              "      <td>Last week whole sides of frozen salmon fillet ...</td>\n",
              "    </tr>\n",
              "    <tr>\n",
              "      <th>1</th>\n",
              "      <td>624300</td>\n",
              "      <td>431813</td>\n",
              "      <td>142201</td>\n",
              "      <td>2007-09-16</td>\n",
              "      <td>5</td>\n",
              "      <td>So simple and so tasty!  I used a yellow capsi...</td>\n",
              "    </tr>\n",
              "    <tr>\n",
              "      <th>2</th>\n",
              "      <td>187037</td>\n",
              "      <td>400708</td>\n",
              "      <td>252013</td>\n",
              "      <td>2008-01-10</td>\n",
              "      <td>4</td>\n",
              "      <td>Very nice breakfast HH, easy to make and yummy...</td>\n",
              "    </tr>\n",
              "    <tr>\n",
              "      <th>3</th>\n",
              "      <td>706134</td>\n",
              "      <td>2001852463</td>\n",
              "      <td>404716</td>\n",
              "      <td>2017-12-11</td>\n",
              "      <td>5</td>\n",
              "      <td>These are a favorite for the holidays and so e...</td>\n",
              "    </tr>\n",
              "    <tr>\n",
              "      <th>4</th>\n",
              "      <td>312179</td>\n",
              "      <td>95810</td>\n",
              "      <td>129396</td>\n",
              "      <td>2008-03-14</td>\n",
              "      <td>5</td>\n",
              "      <td>Excellent soup!  The tomato flavor is just gre...</td>\n",
              "    </tr>\n",
              "    <tr>\n",
              "      <th>...</th>\n",
              "      <td>...</td>\n",
              "      <td>...</td>\n",
              "      <td>...</td>\n",
              "      <td>...</td>\n",
              "      <td>...</td>\n",
              "      <td>...</td>\n",
              "    </tr>\n",
              "    <tr>\n",
              "      <th>126691</th>\n",
              "      <td>1013457</td>\n",
              "      <td>1270706</td>\n",
              "      <td>335534</td>\n",
              "      <td>2009-05-17</td>\n",
              "      <td>4</td>\n",
              "      <td>This recipe was great! I made it last night. I...</td>\n",
              "    </tr>\n",
              "    <tr>\n",
              "      <th>126692</th>\n",
              "      <td>158736</td>\n",
              "      <td>2282344</td>\n",
              "      <td>8701</td>\n",
              "      <td>2012-06-03</td>\n",
              "      <td>0</td>\n",
              "      <td>This recipe is outstanding. I followed the rec...</td>\n",
              "    </tr>\n",
              "    <tr>\n",
              "      <th>126693</th>\n",
              "      <td>1059834</td>\n",
              "      <td>689540</td>\n",
              "      <td>222001</td>\n",
              "      <td>2008-04-08</td>\n",
              "      <td>5</td>\n",
              "      <td>Well, we were not a crowd but it was a fabulou...</td>\n",
              "    </tr>\n",
              "    <tr>\n",
              "      <th>126694</th>\n",
              "      <td>453285</td>\n",
              "      <td>2000242659</td>\n",
              "      <td>354979</td>\n",
              "      <td>2015-06-02</td>\n",
              "      <td>5</td>\n",
              "      <td>I have been a steak eater and dedicated BBQ gr...</td>\n",
              "    </tr>\n",
              "    <tr>\n",
              "      <th>126695</th>\n",
              "      <td>691207</td>\n",
              "      <td>463435</td>\n",
              "      <td>415599</td>\n",
              "      <td>2010-09-30</td>\n",
              "      <td>5</td>\n",
              "      <td>Wonderful and simple to prepare seasoning blen...</td>\n",
              "    </tr>\n",
              "  </tbody>\n",
              "</table>\n",
              "<p>126696 rows × 6 columns</p>\n",
              "</div>\n",
              "      <button class=\"colab-df-convert\" onclick=\"convertToInteractive('df-57aee1e5-46c6-4401-9261-0958458c581f')\"\n",
              "              title=\"Convert this dataframe to an interactive table.\"\n",
              "              style=\"display:none;\">\n",
              "        \n",
              "  <svg xmlns=\"http://www.w3.org/2000/svg\" height=\"24px\"viewBox=\"0 0 24 24\"\n",
              "       width=\"24px\">\n",
              "    <path d=\"M0 0h24v24H0V0z\" fill=\"none\"/>\n",
              "    <path d=\"M18.56 5.44l.94 2.06.94-2.06 2.06-.94-2.06-.94-.94-2.06-.94 2.06-2.06.94zm-11 1L8.5 8.5l.94-2.06 2.06-.94-2.06-.94L8.5 2.5l-.94 2.06-2.06.94zm10 10l.94 2.06.94-2.06 2.06-.94-2.06-.94-.94-2.06-.94 2.06-2.06.94z\"/><path d=\"M17.41 7.96l-1.37-1.37c-.4-.4-.92-.59-1.43-.59-.52 0-1.04.2-1.43.59L10.3 9.45l-7.72 7.72c-.78.78-.78 2.05 0 2.83L4 21.41c.39.39.9.59 1.41.59.51 0 1.02-.2 1.41-.59l7.78-7.78 2.81-2.81c.8-.78.8-2.07 0-2.86zM5.41 20L4 18.59l7.72-7.72 1.47 1.35L5.41 20z\"/>\n",
              "  </svg>\n",
              "      </button>\n",
              "      \n",
              "  <style>\n",
              "    .colab-df-container {\n",
              "      display:flex;\n",
              "      flex-wrap:wrap;\n",
              "      gap: 12px;\n",
              "    }\n",
              "\n",
              "    .colab-df-convert {\n",
              "      background-color: #E8F0FE;\n",
              "      border: none;\n",
              "      border-radius: 50%;\n",
              "      cursor: pointer;\n",
              "      display: none;\n",
              "      fill: #1967D2;\n",
              "      height: 32px;\n",
              "      padding: 0 0 0 0;\n",
              "      width: 32px;\n",
              "    }\n",
              "\n",
              "    .colab-df-convert:hover {\n",
              "      background-color: #E2EBFA;\n",
              "      box-shadow: 0px 1px 2px rgba(60, 64, 67, 0.3), 0px 1px 3px 1px rgba(60, 64, 67, 0.15);\n",
              "      fill: #174EA6;\n",
              "    }\n",
              "\n",
              "    [theme=dark] .colab-df-convert {\n",
              "      background-color: #3B4455;\n",
              "      fill: #D2E3FC;\n",
              "    }\n",
              "\n",
              "    [theme=dark] .colab-df-convert:hover {\n",
              "      background-color: #434B5C;\n",
              "      box-shadow: 0px 1px 3px 1px rgba(0, 0, 0, 0.15);\n",
              "      filter: drop-shadow(0px 1px 2px rgba(0, 0, 0, 0.3));\n",
              "      fill: #FFFFFF;\n",
              "    }\n",
              "  </style>\n",
              "\n",
              "      <script>\n",
              "        const buttonEl =\n",
              "          document.querySelector('#df-57aee1e5-46c6-4401-9261-0958458c581f button.colab-df-convert');\n",
              "        buttonEl.style.display =\n",
              "          google.colab.kernel.accessAllowed ? 'block' : 'none';\n",
              "\n",
              "        async function convertToInteractive(key) {\n",
              "          const element = document.querySelector('#df-57aee1e5-46c6-4401-9261-0958458c581f');\n",
              "          const dataTable =\n",
              "            await google.colab.kernel.invokeFunction('convertToInteractive',\n",
              "                                                     [key], {});\n",
              "          if (!dataTable) return;\n",
              "\n",
              "          const docLinkHtml = 'Like what you see? Visit the ' +\n",
              "            '<a target=\"_blank\" href=https://colab.research.google.com/notebooks/data_table.ipynb>data table notebook</a>'\n",
              "            + ' to learn more about interactive tables.';\n",
              "          element.innerHTML = '';\n",
              "          dataTable['output_type'] = 'display_data';\n",
              "          await google.colab.output.renderOutput(dataTable, element);\n",
              "          const docLink = document.createElement('div');\n",
              "          docLink.innerHTML = docLinkHtml;\n",
              "          element.appendChild(docLink);\n",
              "        }\n",
              "      </script>\n",
              "    </div>\n",
              "  </div>\n",
              "  "
            ]
          },
          "metadata": {},
          "execution_count": 14
        }
      ]
    },
    {
      "cell_type": "code",
      "execution_count": null,
      "metadata": {
        "id": "Ph7yKDzTP6fd"
      },
      "outputs": [],
      "source": [
        "\n",
        "def get_word_reviews_count(df):\n",
        "    word_reviews = {}\n",
        "    for _, row in df.dropna(subset=['review']).iterrows():\n",
        "        recipe_id, review = row['recipe_id'], row['review']\n",
        "        words = review.split(' ')\n",
        "        for word in words:\n",
        "            if word not in word_reviews:\n",
        "                word_reviews[word] = []\n",
        "            word_reviews[word].append(recipe_id)\n",
        "    \n",
        "    word_reviews_count = {}\n",
        "    for _, row in df.dropna(subset=['review']).iterrows():\n",
        "        review = row['review']\n",
        "        words = review.split(' ')\n",
        "        for word in words:\n",
        "            word_reviews_count[word] = len(word_reviews[word])\n",
        "    return word_reviews_count"
      ]
    },
    {
      "cell_type": "code",
      "source": [
        "%%time\n",
        "long_func = get_word_reviews_count(review)"
      ],
      "metadata": {
        "colab": {
          "base_uri": "https://localhost:8080/"
        },
        "id": "EOLUAwnsehYd",
        "outputId": "5ee74bd3-ce42-4698-ab43-b6e15f7a6afd"
      },
      "execution_count": null,
      "outputs": [
        {
          "output_type": "stream",
          "name": "stdout",
          "text": [
            "CPU times: user 21.6 s, sys: 103 ms, total: 21.7 s\n",
            "Wall time: 22.7 s\n"
          ]
        }
      ]
    },
    {
      "cell_type": "markdown",
      "source": [
        "Можно избавиться от повторных проходов по датафрейму, объединив два цикла в один. \n",
        "\n",
        "В имеющемся коде неоптимально использование двух циклов для подсчета количества отзывов, содержащих каждое слово. Также неэффективно создание списка слов для каждого отзыва, вместо того, чтобы использовать итератор. \n"
      ],
      "metadata": {
        "id": "kLoYwa6GdjCv"
      }
    },
    {
      "cell_type": "code",
      "source": [
        "def get_word_reviews_count(df):\n",
        "    word_reviews = {}\n",
        "    for _, row in df.dropna(subset=['review']).iterrows():\n",
        "        recipe_id, review = row['recipe_id'], row['review']\n",
        "        words = review.split(' ')\n",
        "        for word in set(words):\n",
        "            if word not in word_reviews:\n",
        "                word_reviews[word] = []\n",
        "            word_reviews[word].append(recipe_id)\n",
        "    word_reviews_count = {}\n",
        "    for word, reviews in word_reviews.items():\n",
        "        word_reviews_count[word] = len(reviews)\n",
        "    return word_reviews_count"
      ],
      "metadata": {
        "id": "atvmqHgTgzRj"
      },
      "execution_count": null,
      "outputs": []
    },
    {
      "cell_type": "code",
      "source": [
        "%%time\n",
        "fast_func = get_word_reviews_count(review)\n"
      ],
      "metadata": {
        "colab": {
          "base_uri": "https://localhost:8080/"
        },
        "id": "hzwXg-qFg0ua",
        "outputId": "d25b4cb5-fbf8-42ca-d74a-2c3473f0e40a"
      },
      "execution_count": null,
      "outputs": [
        {
          "output_type": "stream",
          "name": "stdout",
          "text": [
            "CPU times: user 11.6 s, sys: 46.7 ms, total: 11.6 s\n",
            "Wall time: 11.8 s\n"
          ]
        }
      ]
    },
    {
      "cell_type": "code",
      "source": [],
      "metadata": {
        "id": "hidSdw60hwx0"
      },
      "execution_count": null,
      "outputs": []
    },
    {
      "cell_type": "markdown",
      "metadata": {
        "id": "DsW5RPF1P6fe"
      },
      "source": [
        "4. Напишите несколько версий функции `MAPE` (см. [MAPE](https://en.wikipedia.org/wiki/Mean_absolute_percentage_error)) для расчета среднего абсолютного процентного отклонения значения рейтинга отзыва на рецепт от среднего значения рейтинга по всем отзывам для этого рецепта. \n",
        "    1. Без использования векторизованных операций и методов массивов `numpy` и без использования `numba`\n",
        "    2. Без использования векторизованных операций и методов массивов `numpy`, но с использованием `numba`\n",
        "    3. С использованием векторизованных операций и методов массивов `numpy`, но без использования `numba`\n",
        "    4. C использованием векторизованных операций и методов массивов `numpy` и `numba`\n",
        "    \n",
        "Измерьте время выполнения каждой из реализаций.\n",
        "\n",
        "Замечание: удалите из выборки отзывы с нулевым рейтингом.\n"
      ]
    },
    {
      "cell_type": "code",
      "execution_count": null,
      "metadata": {
        "id": "RAJb6VkaP6ff"
      },
      "outputs": [],
      "source": []
    },
    {
      "cell_type": "code",
      "execution_count": null,
      "metadata": {
        "id": "m3j1bj_QPipe"
      },
      "outputs": [],
      "source": [
        "#A. Без использования векторизованных операций и методов массивов numpy и без использования numba:\n",
        "def mape_a(reviews):\n",
        "    rating_sum = 0.0\n",
        "    count = 0\n",
        "    for r in reviews:\n",
        "        if r != 0:\n",
        "            rating_sum += r\n",
        "            count += 1\n",
        "    mean_rating = rating_sum / count\n",
        "    abs_diff_sum = 0.0\n",
        "    for r in reviews:\n",
        "        if r != 0:\n",
        "            abs_diff_sum += abs(r - mean_rating) / mean_rating\n",
        "    return (abs_diff_sum / count) * 100"
      ]
    },
    {
      "cell_type": "code",
      "execution_count": null,
      "metadata": {
        "id": "vuSRqyipPipe",
        "outputId": "f8847869-bc64-4337-da4c-63143c165a85"
      },
      "outputs": [
        {
          "name": "stdout",
          "output_type": "stream",
          "text": [
            "CPU times: total: 547 ms\n",
            "Wall time: 560 ms\n"
          ]
        },
        {
          "data": {
            "text/plain": [
              "39.86261012569429"
            ]
          },
          "execution_count": 165,
          "metadata": {},
          "output_type": "execute_result"
        }
      ],
      "source": [
        "%%time\n",
        "mape_a(reviews)"
      ]
    },
    {
      "cell_type": "code",
      "execution_count": null,
      "metadata": {
        "id": "CYTdG_vtPipf"
      },
      "outputs": [],
      "source": [
        "#B. Без использования векторизованных операций и методов массивов numpy, но с использованием numba:\n",
        "@numba.jit(nopython=True)\n",
        "def mape_b(reviews):\n",
        "    rating_sum = 0.0\n",
        "    count = 0\n",
        "    for r in reviews:\n",
        "        if r != 0:\n",
        "            rating_sum += r\n",
        "            count += 1\n",
        "    mean_rating = rating_sum / count\n",
        "    abs_diff_sum = 0.0\n",
        "    for r in reviews:\n",
        "        if r != 0:\n",
        "            abs_diff_sum += abs(r - mean_rating) / mean_rating\n",
        "    return (abs_diff_sum / count) * 100"
      ]
    },
    {
      "cell_type": "code",
      "execution_count": null,
      "metadata": {
        "id": "1AhA3s9nPipf",
        "outputId": "ec6533b7-69a1-47d3-8a8d-affcc0c54195"
      },
      "outputs": [
        {
          "name": "stdout",
          "output_type": "stream",
          "text": [
            "CPU times: total: 281 ms\n",
            "Wall time: 322 ms\n"
          ]
        },
        {
          "data": {
            "text/plain": [
              "39.86261012569429"
            ]
          },
          "execution_count": 167,
          "metadata": {},
          "output_type": "execute_result"
        }
      ],
      "source": [
        "%%time\n",
        "mape_b(reviews)"
      ]
    },
    {
      "cell_type": "code",
      "execution_count": null,
      "metadata": {
        "id": "j5r8wAGiPipf"
      },
      "outputs": [],
      "source": [
        "#C. С использованием векторизованных операций и методов массивов numpy, но без использования numba:\n",
        "def mape_c(reviews):\n",
        "    reviews = np.array(reviews)\n",
        "    reviews = reviews[reviews != 0]\n",
        "    mean_rating = reviews.mean()\n",
        "    abs_diff = np.abs(reviews - mean_rating) / mean_rating\n",
        "    return abs_diff.mean() * 100"
      ]
    },
    {
      "cell_type": "code",
      "execution_count": null,
      "metadata": {
        "id": "UfDgr3xSPipg",
        "outputId": "7084b13c-eac0-4902-84eb-52c42d88c90e"
      },
      "outputs": [
        {
          "name": "stdout",
          "output_type": "stream",
          "text": [
            "CPU times: total: 15.6 ms\n",
            "Wall time: 4 ms\n"
          ]
        },
        {
          "data": {
            "text/plain": [
              "39.86261012571317"
            ]
          },
          "execution_count": 169,
          "metadata": {},
          "output_type": "execute_result"
        }
      ],
      "source": [
        "%%time\n",
        "mape_c(reviews)"
      ]
    },
    {
      "cell_type": "code",
      "execution_count": null,
      "metadata": {
        "id": "RBYIWdMpPipg"
      },
      "outputs": [],
      "source": [
        "#D. С использованием векторизованных операций и методов массивов numpy и numba:\n",
        "@numba.jit(nopython=True)\n",
        "def mape_d(reviews):\n",
        "    return np.mean(np.abs(reviews - np.mean(reviews)) / reviews) * 100"
      ]
    },
    {
      "cell_type": "code",
      "execution_count": null,
      "metadata": {
        "id": "q4UEbXf7Pipg",
        "outputId": "5eb6cbdc-3ed6-403e-ffe4-ea37038901e0"
      },
      "outputs": [
        {
          "name": "stdout",
          "output_type": "stream",
          "text": [
            "CPU times: total: 203 ms\n",
            "Wall time: 207 ms\n"
          ]
        },
        {
          "data": {
            "text/plain": [
              "inf"
            ]
          },
          "execution_count": 177,
          "metadata": {},
          "output_type": "execute_result"
        }
      ],
      "source": [
        "%%time\n",
        "mape_d(reviews)"
      ]
    },
    {
      "cell_type": "code",
      "execution_count": null,
      "metadata": {
        "id": "hTaAuTtTP6ff"
      },
      "outputs": [],
      "source": []
    },
    {
      "cell_type": "markdown",
      "metadata": {
        "id": "eq4c0lcLP6ff"
      },
      "source": [
        "#### [версия 2]\n",
        "* Уточнены формулировки задач 1, 3, 4"
      ]
    },
    {
      "cell_type": "code",
      "execution_count": null,
      "metadata": {
        "id": "mCI_KwpaP6ff"
      },
      "outputs": [],
      "source": []
    }
  ],
  "metadata": {
    "kernelspec": {
      "display_name": "Python 3",
      "language": "python",
      "name": "python3"
    },
    "language_info": {
      "codemirror_mode": {
        "name": "ipython",
        "version": 3
      },
      "file_extension": ".py",
      "mimetype": "text/x-python",
      "name": "python",
      "nbconvert_exporter": "python",
      "pygments_lexer": "ipython3",
      "version": "3.7.4"
    },
    "colab": {
      "provenance": []
    }
  },
  "nbformat": 4,
  "nbformat_minor": 0
}